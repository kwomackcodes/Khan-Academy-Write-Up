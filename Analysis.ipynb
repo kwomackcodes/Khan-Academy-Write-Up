{
 "cells": [
  {
   "cell_type": "markdown",
   "source": [
    "# Khan Academy Take Home Assignment (Program Analysis)\n",
    "## Notebook By: Kevin Womack\n",
    "\n",
    "### Introduction\n",
    "The goal of this exercise is to understand the effect of program intervention on learner usage in the EdTech platform across various districts. In order to do this, I will need to design a visualization (likely with multiple views) that will allow us to examine usage change over time, both at an individual district level and by cross-sections of program and/or district characteristics.\n",
    "\n",
    "But before beginning the process of designing and constructing these dashboards, I will use the `pandas` Python library to examine the cleanliness and key features of the dataset."
   ],
   "metadata": {
    "collapsed": false
   }
  },
  {
   "cell_type": "code",
   "execution_count": 6,
   "outputs": [
    {
     "data": {
      "text/plain": "(5612, 10)"
     },
     "execution_count": 6,
     "metadata": {},
     "output_type": "execute_result"
    }
   ],
   "source": [
    "import pandas as pd\n",
    "\n",
    "# Examine the shape (nrows, ncolumns) of the dataset\n",
    "data = pd.read_csv('./data/program_analysis_data.csv')\n",
    "data.shape"
   ],
   "metadata": {
    "collapsed": false
   }
  },
  {
   "cell_type": "code",
   "execution_count": 4,
   "outputs": [
    {
     "data": {
      "text/plain": "  reporting_date academic_term_name  \\\n0     2023-10-30     2023 - 2024 SY   \n1     2023-10-29     2023 - 2024 SY   \n2     2023-09-28     2023 - 2024 SY   \n3     2023-09-09     2023 - 2024 SY   \n4     2023-09-24     2023 - 2024 SY   \n\n                                     partner_id  program_started  \\\n0  JegVb+e1Bx2778GmzbS5sqSzN9gzjXto3x6Iby8KYPU=            False   \n1  Y2JPPwlGkiVUo3TXr4pBGFq/NpGn3btcuckvOW8nr2s=            False   \n2  rTvBTTUAKUjLmLGRxxq9Fm7c3DN5ZJtysHJ+pOoZFwY=            False   \n3  B++Z1VlCM2PfcXMo8HREN1XglSB2P981bhosh3YLrow=            False   \n4  ztctexxU7U2a70cB9CGC09kOwXpcmoQNNP98WXa0fpU=            False   \n\n  program_model commitment_level grade_levels  rostered_learners  \\\n0           NaN              NaN          NaN                270   \n1           NaN              NaN          NaN               5458   \n2           NaN              NaN          NaN               1338   \n3           NaN              NaN          NaN               2476   \n4           NaN              NaN          NaN              15672   \n\n   active_learners  very_active_learners  \n0              231                    20  \n1             3102                    14  \n2             1281                     0  \n3             1645                     3  \n4             3988                    22  ",
      "text/html": "<div>\n<style scoped>\n    .dataframe tbody tr th:only-of-type {\n        vertical-align: middle;\n    }\n\n    .dataframe tbody tr th {\n        vertical-align: top;\n    }\n\n    .dataframe thead th {\n        text-align: right;\n    }\n</style>\n<table border=\"1\" class=\"dataframe\">\n  <thead>\n    <tr style=\"text-align: right;\">\n      <th></th>\n      <th>reporting_date</th>\n      <th>academic_term_name</th>\n      <th>partner_id</th>\n      <th>program_started</th>\n      <th>program_model</th>\n      <th>commitment_level</th>\n      <th>grade_levels</th>\n      <th>rostered_learners</th>\n      <th>active_learners</th>\n      <th>very_active_learners</th>\n    </tr>\n  </thead>\n  <tbody>\n    <tr>\n      <th>0</th>\n      <td>2023-10-30</td>\n      <td>2023 - 2024 SY</td>\n      <td>JegVb+e1Bx2778GmzbS5sqSzN9gzjXto3x6Iby8KYPU=</td>\n      <td>False</td>\n      <td>NaN</td>\n      <td>NaN</td>\n      <td>NaN</td>\n      <td>270</td>\n      <td>231</td>\n      <td>20</td>\n    </tr>\n    <tr>\n      <th>1</th>\n      <td>2023-10-29</td>\n      <td>2023 - 2024 SY</td>\n      <td>Y2JPPwlGkiVUo3TXr4pBGFq/NpGn3btcuckvOW8nr2s=</td>\n      <td>False</td>\n      <td>NaN</td>\n      <td>NaN</td>\n      <td>NaN</td>\n      <td>5458</td>\n      <td>3102</td>\n      <td>14</td>\n    </tr>\n    <tr>\n      <th>2</th>\n      <td>2023-09-28</td>\n      <td>2023 - 2024 SY</td>\n      <td>rTvBTTUAKUjLmLGRxxq9Fm7c3DN5ZJtysHJ+pOoZFwY=</td>\n      <td>False</td>\n      <td>NaN</td>\n      <td>NaN</td>\n      <td>NaN</td>\n      <td>1338</td>\n      <td>1281</td>\n      <td>0</td>\n    </tr>\n    <tr>\n      <th>3</th>\n      <td>2023-09-09</td>\n      <td>2023 - 2024 SY</td>\n      <td>B++Z1VlCM2PfcXMo8HREN1XglSB2P981bhosh3YLrow=</td>\n      <td>False</td>\n      <td>NaN</td>\n      <td>NaN</td>\n      <td>NaN</td>\n      <td>2476</td>\n      <td>1645</td>\n      <td>3</td>\n    </tr>\n    <tr>\n      <th>4</th>\n      <td>2023-09-24</td>\n      <td>2023 - 2024 SY</td>\n      <td>ztctexxU7U2a70cB9CGC09kOwXpcmoQNNP98WXa0fpU=</td>\n      <td>False</td>\n      <td>NaN</td>\n      <td>NaN</td>\n      <td>NaN</td>\n      <td>15672</td>\n      <td>3988</td>\n      <td>22</td>\n    </tr>\n  </tbody>\n</table>\n</div>"
     },
     "execution_count": 4,
     "metadata": {},
     "output_type": "execute_result"
    }
   ],
   "source": [
    "# Examine the top of the dataset\n",
    "data.head()"
   ],
   "metadata": {
    "collapsed": false
   }
  },
  {
   "cell_type": "code",
   "execution_count": 3,
   "outputs": [
    {
     "data": {
      "text/plain": "     reporting_date academic_term_name  \\\n5607     2024-11-22     2024 - 2025 SY   \n5608     2024-10-19     2024 - 2025 SY   \n5609     2024-09-29     2024 - 2025 SY   \n5610     2024-09-18     2024 - 2025 SY   \n5611     2024-10-28     2024 - 2025 SY   \n\n                                        partner_id  program_started  \\\n5607  W88GuLNMt4ZhTe6tbQ6Oq037hFoq2YAbFFmFuAunENA=             True   \n5608  VWe7Y86Kh7kTY28xVHpOWbPSVZNGgKwt4476xULNHn0=             True   \n5609  VWe7Y86Kh7kTY28xVHpOWbPSVZNGgKwt4476xULNHn0=             True   \n5610  VWe7Y86Kh7kTY28xVHpOWbPSVZNGgKwt4476xULNHn0=             True   \n5611  0MIw7EhCoutq79+6b722/hjxx1cpvUbfzAT6XClKVsg=             True   \n\n     program_model commitment_level grade_levels  rostered_learners  \\\n5607       Model B              Low         9-12               2293   \n5608       Model A             High         9-12                963   \n5609       Model A             High         9-12                963   \n5610       Model A             High         9-12                963   \n5611       Model A             High         9-12                910   \n\n      active_learners  very_active_learners  \n5607             1630                    12  \n5608              791                     4  \n5609              760                     2  \n5610              745                     2  \n5611              669                     1  ",
      "text/html": "<div>\n<style scoped>\n    .dataframe tbody tr th:only-of-type {\n        vertical-align: middle;\n    }\n\n    .dataframe tbody tr th {\n        vertical-align: top;\n    }\n\n    .dataframe thead th {\n        text-align: right;\n    }\n</style>\n<table border=\"1\" class=\"dataframe\">\n  <thead>\n    <tr style=\"text-align: right;\">\n      <th></th>\n      <th>reporting_date</th>\n      <th>academic_term_name</th>\n      <th>partner_id</th>\n      <th>program_started</th>\n      <th>program_model</th>\n      <th>commitment_level</th>\n      <th>grade_levels</th>\n      <th>rostered_learners</th>\n      <th>active_learners</th>\n      <th>very_active_learners</th>\n    </tr>\n  </thead>\n  <tbody>\n    <tr>\n      <th>5607</th>\n      <td>2024-11-22</td>\n      <td>2024 - 2025 SY</td>\n      <td>W88GuLNMt4ZhTe6tbQ6Oq037hFoq2YAbFFmFuAunENA=</td>\n      <td>True</td>\n      <td>Model B</td>\n      <td>Low</td>\n      <td>9-12</td>\n      <td>2293</td>\n      <td>1630</td>\n      <td>12</td>\n    </tr>\n    <tr>\n      <th>5608</th>\n      <td>2024-10-19</td>\n      <td>2024 - 2025 SY</td>\n      <td>VWe7Y86Kh7kTY28xVHpOWbPSVZNGgKwt4476xULNHn0=</td>\n      <td>True</td>\n      <td>Model A</td>\n      <td>High</td>\n      <td>9-12</td>\n      <td>963</td>\n      <td>791</td>\n      <td>4</td>\n    </tr>\n    <tr>\n      <th>5609</th>\n      <td>2024-09-29</td>\n      <td>2024 - 2025 SY</td>\n      <td>VWe7Y86Kh7kTY28xVHpOWbPSVZNGgKwt4476xULNHn0=</td>\n      <td>True</td>\n      <td>Model A</td>\n      <td>High</td>\n      <td>9-12</td>\n      <td>963</td>\n      <td>760</td>\n      <td>2</td>\n    </tr>\n    <tr>\n      <th>5610</th>\n      <td>2024-09-18</td>\n      <td>2024 - 2025 SY</td>\n      <td>VWe7Y86Kh7kTY28xVHpOWbPSVZNGgKwt4476xULNHn0=</td>\n      <td>True</td>\n      <td>Model A</td>\n      <td>High</td>\n      <td>9-12</td>\n      <td>963</td>\n      <td>745</td>\n      <td>2</td>\n    </tr>\n    <tr>\n      <th>5611</th>\n      <td>2024-10-28</td>\n      <td>2024 - 2025 SY</td>\n      <td>0MIw7EhCoutq79+6b722/hjxx1cpvUbfzAT6XClKVsg=</td>\n      <td>True</td>\n      <td>Model A</td>\n      <td>High</td>\n      <td>9-12</td>\n      <td>910</td>\n      <td>669</td>\n      <td>1</td>\n    </tr>\n  </tbody>\n</table>\n</div>"
     },
     "execution_count": 3,
     "metadata": {},
     "output_type": "execute_result"
    }
   ],
   "source": [
    "# Examine the bottom of the dataset\n",
    "data.tail()"
   ],
   "metadata": {
    "collapsed": false
   }
  },
  {
   "cell_type": "markdown",
   "source": [
    "### Assumptions, Observations, and Validations\n",
    "\n",
    "On loading the dataset, the first and foremost thing to confirm is whether or not it is in a \"development-ready\" state. In order to do this, I will use code to confirm some assumptions about the each column that were either given by the instruction prompt or assumed on initial inspection."
   ],
   "metadata": {
    "collapsed": false
   }
  },
  {
   "cell_type": "code",
   "execution_count": 12,
   "outputs": [
    {
     "data": {
      "text/plain": "reporting_date          object\nacademic_term_name      object\npartner_id              object\nprogram_started           bool\nprogram_model           object\ncommitment_level        object\ngrade_levels            object\nrostered_learners        int64\nactive_learners          int64\nvery_active_learners     int64\ndtype: object"
     },
     "execution_count": 12,
     "metadata": {},
     "output_type": "execute_result"
    }
   ],
   "source": [
    "data.dtypes"
   ],
   "metadata": {
    "collapsed": false
   }
  },
  {
   "cell_type": "markdown",
   "source": [
    "#### *Categorical Columns*\n",
    "\n",
    "Continuing with the dataset inspection, one can use the `unique` method to validate the members of each piece of categorical data. Some data issues to look for could include:\n",
    "\n",
    "- Nulls/Missing Data\n",
    "\n",
    "- Dirty/Unprocessed Data (ex: misspellings, capitalization issues, etc.)\n",
    "\n",
    "- Nonsensical data (ex: incorrect semester, etc.)"
   ],
   "metadata": {
    "collapsed": false
   }
  },
  {
   "cell_type": "code",
   "execution_count": 14,
   "outputs": [
    {
     "data": {
      "text/plain": "array(['2023 - 2024 SY', '2024 - 2025 SY'], dtype=object)"
     },
     "execution_count": 14,
     "metadata": {},
     "output_type": "execute_result"
    }
   ],
   "source": [
    "data['academic_term_name'].unique()"
   ],
   "metadata": {
    "collapsed": false
   }
  },
  {
   "cell_type": "code",
   "execution_count": 16,
   "outputs": [
    {
     "data": {
      "text/plain": "array([False,  True])"
     },
     "execution_count": 16,
     "metadata": {},
     "output_type": "execute_result"
    }
   ],
   "source": [
    "data['program_started'].unique()"
   ],
   "metadata": {
    "collapsed": false
   }
  },
  {
   "cell_type": "code",
   "execution_count": 20,
   "outputs": [
    {
     "data": {
      "text/plain": "array(['JegVb+e1Bx2778GmzbS5sqSzN9gzjXto3x6Iby8KYPU=',\n       'Y2JPPwlGkiVUo3TXr4pBGFq/NpGn3btcuckvOW8nr2s=',\n       'rTvBTTUAKUjLmLGRxxq9Fm7c3DN5ZJtysHJ+pOoZFwY=',\n       'B++Z1VlCM2PfcXMo8HREN1XglSB2P981bhosh3YLrow=',\n       'ztctexxU7U2a70cB9CGC09kOwXpcmoQNNP98WXa0fpU=',\n       '+LVQIP7PJWOu/kztbrDnndnikPLVz0Ocb5lBpmyvgAs=',\n       '0PfNnaafD6NBM5qr3kPV8LPsOzFJpiKtf/IX6hBK/fE=',\n       'VWe7Y86Kh7kTY28xVHpOWbPSVZNGgKwt4476xULNHn0=',\n       'Z3VI3AL16Qbk7ySD7gS0LXICxFlQ27kJw2wFwLG0i4k=',\n       'sguiQ/DTm0tcUmmhX5WHXJcWNVLTkRatUJvkhXZz3bU=',\n       'W88GuLNMt4ZhTe6tbQ6Oq037hFoq2YAbFFmFuAunENA=',\n       'Etk0Z04DdqemXm9QSvrh4oTXwtuKAAlOVofU/IgxomA=',\n       'OGlwbiCKI4Xt9RJOAwUvtrnaWIf8ySu4NWicAgto76s=',\n       'gjQopZDPCM9u8OPQGq7ZVgU8yHz2l0WK37VXBCh2syg=',\n       'LmttyVOgstljvJ8jOZWkvfgu9XAUykHpVovgfk0oiMk=',\n       'odixc7Ugk2G0F5I0eX5Oc5tLR7qGR+al8u4oECdidAI=',\n       'Vt7NoQZaPOqa6L8bmn/31XcOTIHwXAFAWD8QNzM2RXo=',\n       'Orotcgqq0bXAgkfxkgwkW55k0abSlmNcEpsirZyllok=',\n       'LfIimV0a2KZ9wJ0xaJjmP9LoqROlI7ofGQJPbhp4OCk=',\n       'dCizbmxaJZG1xGRD/md9Kl2SxueNp8foKVTZsdbnU20=',\n       'Bt8EzSENp1dwjtW6Nwk++WT+pUbz2M4aj4gOOPk5KJY=',\n       'vPgEutJCP200Q7UuTzQ/3fOFap4dSEFnTwzMj+7ez4o=',\n       '0MIw7EhCoutq79+6b722/hjxx1cpvUbfzAT6XClKVsg='], dtype=object)"
     },
     "execution_count": 20,
     "metadata": {},
     "output_type": "execute_result"
    }
   ],
   "source": [
    "data['partner_id'].unique()"
   ],
   "metadata": {
    "collapsed": false
   }
  },
  {
   "cell_type": "markdown",
   "source": [
    "On review, the categorical columns above seem to have no issues, meaning that there is a value for every row and each value seems to make sense with respect to the nature of the data and the exercise. However, the categorical columns shown below seem to contain `NaN` or `Null` values."
   ],
   "metadata": {
    "collapsed": false
   }
  },
  {
   "cell_type": "code",
   "execution_count": 17,
   "outputs": [
    {
     "data": {
      "text/plain": "array([nan, 'Model B', 'Model A'], dtype=object)"
     },
     "execution_count": 17,
     "metadata": {},
     "output_type": "execute_result"
    }
   ],
   "source": [
    "data['program_model'].unique()"
   ],
   "metadata": {
    "collapsed": false
   }
  },
  {
   "cell_type": "code",
   "execution_count": 18,
   "outputs": [
    {
     "data": {
      "text/plain": "array([nan, 'Low', 'High'], dtype=object)"
     },
     "execution_count": 18,
     "metadata": {},
     "output_type": "execute_result"
    }
   ],
   "source": [
    "data['commitment_level'].unique()"
   ],
   "metadata": {
    "collapsed": false
   }
  },
  {
   "cell_type": "code",
   "execution_count": 19,
   "outputs": [
    {
     "data": {
      "text/plain": "array([nan, '11-12', '2-6', '3-12', '3-5', '3-8', '5-8', '6-11', '6-12',\n       '8-11', '9-12'], dtype=object)"
     },
     "execution_count": 19,
     "metadata": {},
     "output_type": "execute_result"
    }
   ],
   "source": [
    "data['grade_levels'].unique()"
   ],
   "metadata": {
    "collapsed": false
   }
  },
  {
   "cell_type": "markdown",
   "source": [
    "To begin to understand the reason for this, I returned to an observation that I made when using the `head` and `tail` methods earlier. It appears that certain pieces of data are simply unavailable or purposefully missing before start of the program."
   ],
   "metadata": {
    "collapsed": false
   }
  },
  {
   "cell_type": "code",
   "execution_count": 27,
   "outputs": [
    {
     "data": {
      "text/plain": "(2806, 10)"
     },
     "execution_count": 27,
     "metadata": {},
     "output_type": "execute_result"
    }
   ],
   "source": [
    "# Isolate rows before program start\n",
    "program_not_started = data[data['program_started'] == False]\n",
    "program_not_started.shape"
   ],
   "metadata": {
    "collapsed": false
   }
  },
  {
   "cell_type": "code",
   "execution_count": 28,
   "outputs": [
    {
     "data": {
      "text/plain": "reporting_date          False\nacademic_term_name      False\npartner_id              False\nprogram_started         False\nprogram_model            True\ncommitment_level         True\ngrade_levels             True\nrostered_learners       False\nactive_learners         False\nvery_active_learners    False\ndtype: bool"
     },
     "execution_count": 28,
     "metadata": {},
     "output_type": "execute_result"
    }
   ],
   "source": [
    "# Check for any missing data\n",
    "program_not_started.isna().any()"
   ],
   "metadata": {
    "collapsed": false
   }
  },
  {
   "cell_type": "code",
   "execution_count": 22,
   "outputs": [
    {
     "data": {
      "text/plain": "(2806, 10)"
     },
     "execution_count": 22,
     "metadata": {},
     "output_type": "execute_result"
    }
   ],
   "source": [
    "# Isolate rows after program start\n",
    "program_started = data[data['program_started'] == True]\n",
    "program_started.shape"
   ],
   "metadata": {
    "collapsed": false
   }
  },
  {
   "cell_type": "code",
   "execution_count": 26,
   "outputs": [
    {
     "data": {
      "text/plain": "reporting_date          False\nacademic_term_name      False\npartner_id              False\nprogram_started         False\nprogram_model           False\ncommitment_level        False\ngrade_levels            False\nrostered_learners       False\nactive_learners         False\nvery_active_learners    False\ndtype: bool"
     },
     "execution_count": 26,
     "metadata": {},
     "output_type": "execute_result"
    }
   ],
   "source": [
    "# Check for any missing data\n",
    "program_started.isna().any()"
   ],
   "metadata": {
    "collapsed": false
   }
  },
  {
   "cell_type": "markdown",
   "source": [
    "For `program_model` this makes sense, because how can there be a model when there is no program? Though, for `grade_levels` and `commitment_level` the missing data is less understandable; and herein lies my first assumption:\n",
    "\n",
    "**Assumption One: For the sake of visualization, we will assume that both `grade_levels` and `commitment_level` are consistent from one semester year to the next.**\n",
    "\n",
    "This assumption allows us to maintain the notion that changes in learner usage can more surely be attributed to the interventions of the EdTech programs. Lastly, I wanted to confirm that the intervention of each program is isolated to only one semester year."
   ],
   "metadata": {
    "collapsed": false
   }
  },
  {
   "cell_type": "code",
   "execution_count": 29,
   "outputs": [
    {
     "data": {
      "text/plain": "array(['2023 - 2024 SY'], dtype=object)"
     },
     "execution_count": 29,
     "metadata": {},
     "output_type": "execute_result"
    }
   ],
   "source": [
    "# Program has started by 2023-2024 SY\n",
    "program_not_started['academic_term_name'].unique()"
   ],
   "metadata": {
    "collapsed": false
   }
  },
  {
   "cell_type": "code",
   "execution_count": 30,
   "outputs": [
    {
     "data": {
      "text/plain": "array(['2024 - 2025 SY'], dtype=object)"
     },
     "execution_count": 30,
     "metadata": {},
     "output_type": "execute_result"
    }
   ],
   "source": [
    "# Program has started by 2024-2025 SY\n",
    "program_started['academic_term_name'].unique()"
   ],
   "metadata": {
    "collapsed": false
   }
  },
  {
   "cell_type": "markdown",
   "source": [
    "#### *Numerical Columns*\n",
    "\n",
    "The validation of these columns is a bit more straightforward. Given that the measures of `rostered_learners`, `active_learners`, and `very_active_learners` are headcount totals and we've already confirmed that these columns don't have missing data, we simply need to check for nonsensical data, which would include:\n",
    "\n",
    "- Negative numbers\n",
    "- Fractions\n",
    "- Outliers\n",
    "\n",
    "For the sake of simplicity and brevity, we will include an exploration of the first of these."
   ],
   "metadata": {
    "collapsed": false
   }
  },
  {
   "cell_type": "code",
   "execution_count": 35,
   "outputs": [
    {
     "data": {
      "text/plain": "rostered_learners       False\nactive_learners         False\nvery_active_learners    False\ndtype: bool"
     },
     "execution_count": 35,
     "metadata": {},
     "output_type": "execute_result"
    }
   ],
   "source": [
    "# Check that each column only consists of natural numbers\n",
    "data[['rostered_learners', 'active_learners', 'very_active_learners']].lt(0).any()"
   ],
   "metadata": {
    "collapsed": false
   }
  },
  {
   "cell_type": "markdown",
   "source": [
    "With the confirmation that each numerical column only consists of natural numbers, we proceed with examining the fluctuations in these measures over time to assess the effectiveness of each intervention program. However, if the daily changes in each of these columns can be attributed to other reasons (ex. mid-semester opt outs), the conclusions we draw from the data may not be as sure. With this in mind, there's one more assumption for this exercise that I'd like to submit:\n",
    "\n",
    "**Assumption Two: Each daily change in learner headcount columns can be explained by the progression/regression of a learner from one category to another.**\n",
    "\n",
    "This means that (within each district) the `rostered_learners`, `active_learners`, and `very_active_learners` daily counts should total the same number within a given semester year."
   ],
   "metadata": {
    "collapsed": false
   }
  },
  {
   "cell_type": "markdown",
   "source": [
    "### Dashboard Design and Development\n",
    "\n",
    "With the data validated and assumptions registered, the design of the dashboard could begin. As mentioned earlier, it was clear right away that delivering a complete product would require two views with distinctly different purposes and audiences.\n",
    "\n",
    "The first view would allow both internal and external users to view usage growth in a given district by total changes in each learner measure over the course of the semester year. Additionally, lines for both pre- and post-program usage growth are plotted against each other so that the intervention effectiveness can be seen more clearly.\n",
    "\n",
    "![District-Level View](https://github.com/kwomackcodes/Khan-Academy-Write-Up/blob/main/images/District%20Level%20View.jpg)\n",
    "\n",
    "The second view is intended primarily for internal stakewholders who are interested in examining program effectiveness across district and program characteristics. The parameters in this view were designed to give specialized analysts with highly customizable views of intervention success.\n",
    "\n",
    "![Program-Level View](./images/Program Level View.jpg)"
   ],
   "metadata": {
    "collapsed": false
   }
  },
  {
   "cell_type": "code",
   "execution_count": null,
   "outputs": [],
   "source": [],
   "metadata": {
    "collapsed": false
   }
  }
 ],
 "metadata": {
  "kernelspec": {
   "display_name": "Python 3",
   "language": "python",
   "name": "python3"
  },
  "language_info": {
   "codemirror_mode": {
    "name": "ipython",
    "version": 2
   },
   "file_extension": ".py",
   "mimetype": "text/x-python",
   "name": "python",
   "nbconvert_exporter": "python",
   "pygments_lexer": "ipython2",
   "version": "2.7.6"
  }
 },
 "nbformat": 4,
 "nbformat_minor": 0
}
